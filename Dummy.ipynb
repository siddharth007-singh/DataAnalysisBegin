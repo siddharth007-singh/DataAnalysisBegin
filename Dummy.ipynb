{
 "cells": [
  {
   "cell_type": "code",
   "execution_count": 1,
   "metadata": {},
   "outputs": [
    {
     "ename": "SyntaxError",
     "evalue": "(unicode error) 'unicodeescape' codec can't decode bytes in position 2-3: truncated \\UXXXXXXXX escape (1025776994.py, line 2)",
     "output_type": "error",
     "traceback": [
      "\u001b[1;36m  Cell \u001b[1;32mIn[1], line 2\u001b[1;36m\u001b[0m\n\u001b[1;33m    df = pd.read_csv(\"C:\\Users\\Siddharth\\Downloads\\MOCK_DATA.csv\")\u001b[0m\n\u001b[1;37m                                                                 ^\u001b[0m\n\u001b[1;31mSyntaxError\u001b[0m\u001b[1;31m:\u001b[0m (unicode error) 'unicodeescape' codec can't decode bytes in position 2-3: truncated \\UXXXXXXXX escape\n"
     ]
    }
   ],
   "source": [
    "import pandas as pd\n",
    "df = pd.read_csv(\"C:\\Users\\Siddharth\\Downloads\\MOCK_DATA.csv\")\n",
    "df"
   ]
  },
  {
   "cell_type": "code",
   "execution_count": 2,
   "metadata": {},
   "outputs": [
    {
     "data": {
      "text/html": [
       "<div>\n",
       "<style scoped>\n",
       "    .dataframe tbody tr th:only-of-type {\n",
       "        vertical-align: middle;\n",
       "    }\n",
       "\n",
       "    .dataframe tbody tr th {\n",
       "        vertical-align: top;\n",
       "    }\n",
       "\n",
       "    .dataframe thead th {\n",
       "        text-align: right;\n",
       "    }\n",
       "</style>\n",
       "<table border=\"1\" class=\"dataframe\">\n",
       "  <thead>\n",
       "    <tr style=\"text-align: right;\">\n",
       "      <th></th>\n",
       "      <th>id</th>\n",
       "      <th>first_name</th>\n",
       "      <th>last_name</th>\n",
       "      <th>email</th>\n",
       "      <th>gender</th>\n",
       "      <th>ip_address</th>\n",
       "    </tr>\n",
       "  </thead>\n",
       "  <tbody>\n",
       "    <tr>\n",
       "      <th>0</th>\n",
       "      <td>1</td>\n",
       "      <td>Julie</td>\n",
       "      <td>Antonognoli</td>\n",
       "      <td>jantonognoli0@linkedin.com</td>\n",
       "      <td>Male</td>\n",
       "      <td>222.105.42.212</td>\n",
       "    </tr>\n",
       "    <tr>\n",
       "      <th>1</th>\n",
       "      <td>2</td>\n",
       "      <td>Petey</td>\n",
       "      <td>Burgill</td>\n",
       "      <td>pburgill1@sogou.com</td>\n",
       "      <td>Male</td>\n",
       "      <td>71.104.84.173</td>\n",
       "    </tr>\n",
       "    <tr>\n",
       "      <th>2</th>\n",
       "      <td>3</td>\n",
       "      <td>Kathrine</td>\n",
       "      <td>Siggers</td>\n",
       "      <td>ksiggers2@hc360.com</td>\n",
       "      <td>Female</td>\n",
       "      <td>15.214.179.247</td>\n",
       "    </tr>\n",
       "    <tr>\n",
       "      <th>3</th>\n",
       "      <td>4</td>\n",
       "      <td>Earvin</td>\n",
       "      <td>Doudney</td>\n",
       "      <td>edoudney3@soundcloud.com</td>\n",
       "      <td>Bigender</td>\n",
       "      <td>145.123.249.144</td>\n",
       "    </tr>\n",
       "    <tr>\n",
       "      <th>4</th>\n",
       "      <td>5</td>\n",
       "      <td>Valerye</td>\n",
       "      <td>Ferraro</td>\n",
       "      <td>vferraro4@google.cn</td>\n",
       "      <td>Female</td>\n",
       "      <td>20.244.184.13</td>\n",
       "    </tr>\n",
       "    <tr>\n",
       "      <th>...</th>\n",
       "      <td>...</td>\n",
       "      <td>...</td>\n",
       "      <td>...</td>\n",
       "      <td>...</td>\n",
       "      <td>...</td>\n",
       "      <td>...</td>\n",
       "    </tr>\n",
       "    <tr>\n",
       "      <th>995</th>\n",
       "      <td>996</td>\n",
       "      <td>Thorsten</td>\n",
       "      <td>Estcot</td>\n",
       "      <td>testcotrn@163.com</td>\n",
       "      <td>Male</td>\n",
       "      <td>208.41.227.88</td>\n",
       "    </tr>\n",
       "    <tr>\n",
       "      <th>996</th>\n",
       "      <td>997</td>\n",
       "      <td>Fidelio</td>\n",
       "      <td>Steade</td>\n",
       "      <td>fsteadero@columbia.edu</td>\n",
       "      <td>Male</td>\n",
       "      <td>81.66.85.38</td>\n",
       "    </tr>\n",
       "    <tr>\n",
       "      <th>997</th>\n",
       "      <td>998</td>\n",
       "      <td>Rebeka</td>\n",
       "      <td>Cragell</td>\n",
       "      <td>rcragellrp@51.la</td>\n",
       "      <td>Female</td>\n",
       "      <td>59.65.61.101</td>\n",
       "    </tr>\n",
       "    <tr>\n",
       "      <th>998</th>\n",
       "      <td>999</td>\n",
       "      <td>Ulla</td>\n",
       "      <td>Harbar</td>\n",
       "      <td>uharbarrq@howstuffworks.com</td>\n",
       "      <td>Female</td>\n",
       "      <td>121.192.199.202</td>\n",
       "    </tr>\n",
       "    <tr>\n",
       "      <th>999</th>\n",
       "      <td>1000</td>\n",
       "      <td>Blancha</td>\n",
       "      <td>Poley</td>\n",
       "      <td>bpoleyrr@list-manage.com</td>\n",
       "      <td>Female</td>\n",
       "      <td>152.81.25.130</td>\n",
       "    </tr>\n",
       "  </tbody>\n",
       "</table>\n",
       "<p>1000 rows × 6 columns</p>\n",
       "</div>"
      ],
      "text/plain": [
       "       id first_name    last_name                        email    gender  \\\n",
       "0       1      Julie  Antonognoli   jantonognoli0@linkedin.com      Male   \n",
       "1       2      Petey      Burgill          pburgill1@sogou.com      Male   \n",
       "2       3   Kathrine      Siggers          ksiggers2@hc360.com    Female   \n",
       "3       4     Earvin      Doudney     edoudney3@soundcloud.com  Bigender   \n",
       "4       5    Valerye      Ferraro          vferraro4@google.cn    Female   \n",
       "..    ...        ...          ...                          ...       ...   \n",
       "995   996   Thorsten       Estcot            testcotrn@163.com      Male   \n",
       "996   997    Fidelio       Steade       fsteadero@columbia.edu      Male   \n",
       "997   998     Rebeka      Cragell             rcragellrp@51.la    Female   \n",
       "998   999       Ulla       Harbar  uharbarrq@howstuffworks.com    Female   \n",
       "999  1000    Blancha        Poley     bpoleyrr@list-manage.com    Female   \n",
       "\n",
       "          ip_address  \n",
       "0     222.105.42.212  \n",
       "1      71.104.84.173  \n",
       "2     15.214.179.247  \n",
       "3    145.123.249.144  \n",
       "4      20.244.184.13  \n",
       "..               ...  \n",
       "995    208.41.227.88  \n",
       "996      81.66.85.38  \n",
       "997     59.65.61.101  \n",
       "998  121.192.199.202  \n",
       "999    152.81.25.130  \n",
       "\n",
       "[1000 rows x 6 columns]"
      ]
     },
     "execution_count": 2,
     "metadata": {},
     "output_type": "execute_result"
    }
   ],
   "source": [
    "import pandas as pd\n",
    "df = pd.read_csv(\"C:\\\\Users\\\\Siddharth\\\\Downloads\\\\MOCK_DATA.csv\")\n",
    "df"
   ]
  },
  {
   "cell_type": "code",
   "execution_count": 3,
   "metadata": {},
   "outputs": [
    {
     "data": {
      "text/plain": [
       "'99.69.195.170'"
      ]
     },
     "execution_count": 3,
     "metadata": {},
     "output_type": "execute_result"
    }
   ],
   "source": [
    "df['ip_address'].max()"
   ]
  },
  {
   "cell_type": "code",
   "execution_count": 4,
   "metadata": {},
   "outputs": [
    {
     "data": {
      "text/plain": [
       "0      False\n",
       "1      False\n",
       "2       True\n",
       "3      False\n",
       "4      False\n",
       "       ...  \n",
       "995    False\n",
       "996    False\n",
       "997    False\n",
       "998    False\n",
       "999    False\n",
       "Name: first_name, Length: 1000, dtype: bool"
      ]
     },
     "execution_count": 4,
     "metadata": {},
     "output_type": "execute_result"
    }
   ],
   "source": [
    "df['first_name']==\"Kathrine\""
   ]
  },
  {
   "cell_type": "code",
   "execution_count": 5,
   "metadata": {},
   "outputs": [
    {
     "data": {
      "text/plain": [
       "2    ksiggers2@hc360.com\n",
       "Name: email, dtype: object"
      ]
     },
     "execution_count": 5,
     "metadata": {},
     "output_type": "execute_result"
    }
   ],
   "source": [
    "df[\"email\"][df[\"first_name\"]==\"Kathrine\"]"
   ]
  },
  {
   "cell_type": "code",
   "execution_count": null,
   "metadata": {},
   "outputs": [],
   "source": []
  }
 ],
 "metadata": {
  "kernelspec": {
   "display_name": "Python 3",
   "language": "python",
   "name": "python3"
  },
  "language_info": {
   "codemirror_mode": {
    "name": "ipython",
    "version": 3
   },
   "file_extension": ".py",
   "mimetype": "text/x-python",
   "name": "python",
   "nbconvert_exporter": "python",
   "pygments_lexer": "ipython3",
   "version": "3.10.5 (tags/v3.10.5:f377153, Jun  6 2022, 16:14:13) [MSC v.1929 64 bit (AMD64)]"
  },
  "orig_nbformat": 4,
  "vscode": {
   "interpreter": {
    "hash": "369f2c481f4da34e4445cda3fffd2e751bd1c4d706f27375911949ba6bb62e1c"
   }
  }
 },
 "nbformat": 4,
 "nbformat_minor": 2
}
