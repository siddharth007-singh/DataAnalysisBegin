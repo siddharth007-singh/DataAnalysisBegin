{
 "cells": [
  {
   "cell_type": "code",
   "execution_count": 1,
   "metadata": {},
   "outputs": [],
   "source": [
    "#Writing two different file in two different sheet in Single Excel\n",
    "#By using \"ExcelWriter\" class we can create it very Easily\n",
    "import pandas as pd\n",
    "\n",
    "df_stocks = pd.DataFrame({\n",
    "    'Tickets' : ['Google', 'WMT', 'MSFT'],\n",
    "    'Price' : [845, 65, 75],\n",
    "    'Pe': [30.72, 14.26, 30.97],\n",
    "    'Eps' : [27, 27.82, 2.12]\n",
    "})\n",
    "\n",
    "df_weather = pd.DataFrame({\n",
    "    'Days' : ['1/1/2017', '1/2/2017', '1/3/2017'],\n",
    "    'Temprature' : [845, 65, 75],\n",
    "    'Event': [\"Rain\", \"Sunny\", \"Snow\"],\n",
    "    'WindPressure' : [27, 27.82, 2.12]\n",
    "})\n",
    "\n",
    "with pd.ExcelWriter('Stock_weather.xlsx') as writer:\n",
    "    df_stocks.to_excel(writer, sheet_name=\"Stock_Details\")\n",
    "    df_weather.to_excel(writer, sheet_name=\"Weather_Details\")\n"
   ]
  },
  {
   "cell_type": "code",
   "execution_count": null,
   "metadata": {},
   "outputs": [],
   "source": []
  }
 ],
 "metadata": {
  "kernelspec": {
   "display_name": "Python 3",
   "language": "python",
   "name": "python3"
  },
  "language_info": {
   "codemirror_mode": {
    "name": "ipython",
    "version": 3
   },
   "file_extension": ".py",
   "mimetype": "text/x-python",
   "name": "python",
   "nbconvert_exporter": "python",
   "pygments_lexer": "ipython3",
   "version": "3.10.5"
  },
  "orig_nbformat": 4,
  "vscode": {
   "interpreter": {
    "hash": "369f2c481f4da34e4445cda3fffd2e751bd1c4d706f27375911949ba6bb62e1c"
   }
  }
 },
 "nbformat": 4,
 "nbformat_minor": 2
}
